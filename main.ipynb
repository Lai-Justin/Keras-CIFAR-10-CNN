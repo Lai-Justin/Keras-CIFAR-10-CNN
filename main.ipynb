{
 "cells": [
  {
   "cell_type": "markdown",
   "metadata": {},
   "source": [
    "# CIFAR-10 Image Classification using Convolutional Neural Networks"
   ]
  },
  {
   "cell_type": "markdown",
   "metadata": {},
   "source": [
    "## Description"
   ]
  },
  {
   "cell_type": "markdown",
   "metadata": {},
   "source": [
    "The CIFAR-10 dataset is a collection of 60,000 32x32 color images, with each of the images falling into one of ten different categories. These categories are: airplanes, automobiles, birds, cats, deers, dogs, frogs, horses, ships, and trucks. Using this dataset, I created a convolutional neural network to create a machine learning image classifier to classify 10,000 of the images to the correct categorical label. "
   ]
  },
  {
   "cell_type": "markdown",
   "metadata": {},
   "source": [
    "## Code"
   ]
  },
  {
   "cell_type": "code",
   "execution_count": 17,
   "metadata": {},
   "outputs": [
    {
     "name": "stdout",
     "output_type": "stream",
     "text": [
      "Num GPUs Available:  0\n"
     ]
    }
   ],
   "source": [
    "import tensorflow as tf\n",
    "print(\"Num GPUs Available: \", len(tf.config.list_physical_devices('GPU')))"
   ]
  },
  {
   "cell_type": "code",
   "execution_count": 18,
   "metadata": {},
   "outputs": [],
   "source": [
    "# Imports\n",
    "import numpy as np\n",
    "import matplotlib.pyplot as plt\n",
    "from tensorflow import keras\n",
    "from tensorflow.keras.models import Sequential"
   ]
  },
  {
   "cell_type": "code",
   "execution_count": 12,
   "metadata": {},
   "outputs": [],
   "source": [
    "# Load dataset from Keras\n",
    "(x_train, y_train), (x_test, y_test) = keras.datasets.cifar10.load_data()"
   ]
  },
  {
   "cell_type": "markdown",
   "metadata": {},
   "source": [
    "For this model,"
   ]
  },
  {
   "cell_type": "code",
   "execution_count": 13,
   "metadata": {},
   "outputs": [],
   "source": [
    "# One-Hot Encoding\n",
    "from tensorflow.keras.utils import to_categorical\n",
    "y_train = to_categorical(y_train, 10)\n",
    "y_test = to_categorical(y_test, 10)"
   ]
  },
  {
   "cell_type": "code",
   "execution_count": 23,
   "metadata": {},
   "outputs": [
    {
     "name": "stdout",
     "output_type": "stream",
     "text": [
      "Model: \"sequential_3\"\n",
      "_________________________________________________________________\n",
      " Layer (type)                Output Shape              Param #   \n",
      "=================================================================\n",
      " conv2d_9 (Conv2D)           (None, 26, 26, 64)        9472      \n",
      "                                                                 \n",
      " max_pooling2d_9 (MaxPoolin  (None, 13, 13, 64)        0         \n",
      " g2D)                                                            \n",
      "                                                                 \n",
      " conv2d_10 (Conv2D)          (None, 11, 11, 128)       73856     \n",
      "                                                                 \n",
      " max_pooling2d_10 (MaxPooli  (None, 5, 5, 128)         0         \n",
      " ng2D)                                                           \n",
      "                                                                 \n",
      " conv2d_11 (Conv2D)          (None, 3, 3, 256)         295168    \n",
      "                                                                 \n",
      " max_pooling2d_11 (MaxPooli  (None, 1, 1, 256)         0         \n",
      " ng2D)                                                           \n",
      "                                                                 \n",
      " flatten_3 (Flatten)         (None, 256)               0         \n",
      "                                                                 \n",
      " dropout_6 (Dropout)         (None, 256)               0         \n",
      "                                                                 \n",
      " dense_3 (Dense)             (None, 10)                2570      \n",
      "                                                                 \n",
      "=================================================================\n",
      "Total params: 381066 (1.45 MB)\n",
      "Trainable params: 381066 (1.45 MB)\n",
      "Non-trainable params: 0 (0.00 Byte)\n",
      "_________________________________________________________________\n"
     ]
    }
   ],
   "source": [
    "from keras import layers\n",
    "model = keras.Sequential([\n",
    "    layers.Conv2D(64, 7, activation = 'relu', input_shape = (32, 32, 3)),\n",
    "    layers.MaxPool2D(pool_size = (2, 2), strides = 2),\n",
    "\n",
    "    \n",
    "    layers.Conv2D(128, 3, activation = 'relu'),\n",
    "    layers.MaxPool2D(pool_size = (2, 2), strides = 2),\n",
    "\n",
    "    \n",
    "    layers.Conv2D(256, 3, activation = 'relu'),\n",
    "    layers.MaxPool2D(pool_size = (2, 2), strides = 2),\n",
    "    \n",
    "    layers.Flatten(),\n",
    "    layers.Dropout(0.5),\n",
    "    \n",
    "    layers.Dense(10, activation = 'softmax'),\n",
    "])\n",
    "\n",
    "model.summary()"
   ]
  },
  {
   "cell_type": "code",
   "execution_count": 24,
   "metadata": {},
   "outputs": [
    {
     "name": "stdout",
     "output_type": "stream",
     "text": [
      "Epoch 1/25\n",
      "1250/1250 [==============================] - 15s 12ms/step - loss: 2.1486 - accuracy: 0.2640 - val_loss: 1.7803 - val_accuracy: 0.3426\n",
      "Epoch 2/25\n",
      "1250/1250 [==============================] - 14s 11ms/step - loss: 1.7889 - accuracy: 0.3531 - val_loss: 1.8409 - val_accuracy: 0.3538\n",
      "Epoch 3/25\n",
      "1250/1250 [==============================] - 14s 11ms/step - loss: 1.7201 - accuracy: 0.3782 - val_loss: 1.7534 - val_accuracy: 0.3547\n",
      "Epoch 4/25\n",
      "1250/1250 [==============================] - 14s 11ms/step - loss: 1.6728 - accuracy: 0.3963 - val_loss: 1.5598 - val_accuracy: 0.4398\n",
      "Epoch 5/25\n",
      "1250/1250 [==============================] - 14s 11ms/step - loss: 1.6493 - accuracy: 0.4099 - val_loss: 1.5794 - val_accuracy: 0.4277\n",
      "Epoch 6/25\n",
      "1250/1250 [==============================] - 14s 11ms/step - loss: 1.6093 - accuracy: 0.4238 - val_loss: 1.6643 - val_accuracy: 0.4008\n",
      "Epoch 7/25\n",
      "1250/1250 [==============================] - 14s 12ms/step - loss: 1.5953 - accuracy: 0.4305 - val_loss: 1.6083 - val_accuracy: 0.4225\n",
      "Epoch 8/25\n",
      "1250/1250 [==============================] - 15s 12ms/step - loss: 1.5727 - accuracy: 0.4409 - val_loss: 1.5718 - val_accuracy: 0.4466\n",
      "Epoch 9/25\n",
      "1250/1250 [==============================] - 15s 12ms/step - loss: 1.5553 - accuracy: 0.4474 - val_loss: 1.5104 - val_accuracy: 0.4655\n",
      "Epoch 10/25\n",
      "1250/1250 [==============================] - 15s 12ms/step - loss: 1.5409 - accuracy: 0.4542 - val_loss: 1.4672 - val_accuracy: 0.4861\n",
      "Epoch 11/25\n",
      "1250/1250 [==============================] - 14s 11ms/step - loss: 1.5235 - accuracy: 0.4570 - val_loss: 1.5233 - val_accuracy: 0.4559\n",
      "Epoch 12/25\n",
      "1250/1250 [==============================] - 14s 11ms/step - loss: 1.5125 - accuracy: 0.4651 - val_loss: 1.4863 - val_accuracy: 0.4733\n",
      "Epoch 13/25\n",
      "1250/1250 [==============================] - 14s 11ms/step - loss: 1.4843 - accuracy: 0.4735 - val_loss: 1.4497 - val_accuracy: 0.4934\n",
      "Epoch 14/25\n",
      "1250/1250 [==============================] - 15s 12ms/step - loss: 1.4721 - accuracy: 0.4788 - val_loss: 1.4373 - val_accuracy: 0.4921\n",
      "Epoch 15/25\n",
      "1250/1250 [==============================] - 14s 11ms/step - loss: 1.4755 - accuracy: 0.4778 - val_loss: 1.4161 - val_accuracy: 0.5039\n",
      "Epoch 16/25\n",
      "1250/1250 [==============================] - 15s 12ms/step - loss: 1.4558 - accuracy: 0.4850 - val_loss: 1.5165 - val_accuracy: 0.4697\n",
      "Epoch 17/25\n",
      "1250/1250 [==============================] - 14s 11ms/step - loss: 1.4466 - accuracy: 0.4886 - val_loss: 1.4961 - val_accuracy: 0.4763\n",
      "Epoch 18/25\n",
      "1250/1250 [==============================] - 14s 11ms/step - loss: 1.4400 - accuracy: 0.4917 - val_loss: 1.4512 - val_accuracy: 0.4916\n",
      "Epoch 19/25\n",
      "1250/1250 [==============================] - 14s 11ms/step - loss: 1.4306 - accuracy: 0.4947 - val_loss: 1.4850 - val_accuracy: 0.4805\n",
      "Epoch 20/25\n",
      "1250/1250 [==============================] - 14s 11ms/step - loss: 1.4230 - accuracy: 0.4972 - val_loss: 1.4379 - val_accuracy: 0.4921\n",
      "Epoch 21/25\n",
      "1250/1250 [==============================] - 14s 11ms/step - loss: 1.4207 - accuracy: 0.4961 - val_loss: 1.4526 - val_accuracy: 0.4983\n",
      "Epoch 22/25\n",
      "1250/1250 [==============================] - 15s 12ms/step - loss: 1.4239 - accuracy: 0.4972 - val_loss: 1.5139 - val_accuracy: 0.4769\n",
      "Epoch 23/25\n",
      "1250/1250 [==============================] - 14s 11ms/step - loss: 1.3806 - accuracy: 0.5107 - val_loss: 1.5414 - val_accuracy: 0.4573\n",
      "Epoch 24/25\n",
      "1250/1250 [==============================] - 14s 11ms/step - loss: 1.3948 - accuracy: 0.5080 - val_loss: 1.4574 - val_accuracy: 0.4924\n",
      "Epoch 25/25\n",
      "1250/1250 [==============================] - 13s 11ms/step - loss: 1.3915 - accuracy: 0.5088 - val_loss: 1.5027 - val_accuracy: 0.4909\n"
     ]
    }
   ],
   "source": [
    "from keras.callbacks import ModelCheckpoint, EarlyStopping\n",
    "model.compile(loss='categorical_crossentropy', optimizer=\"Adam\", metrics=['accuracy'])\n",
    "\n",
    "CIFAR = model.fit(x_train, y_train, batch_size=32, epochs=25, validation_split=0.2, callbacks=[EarlyStopping(monitor='loss', patience=3)])"
   ]
  },
  {
   "cell_type": "code",
   "execution_count": 25,
   "metadata": {},
   "outputs": [
    {
     "data": {
      "text/plain": [
       "<matplotlib.legend.Legend at 0x208bb3e7650>"
      ]
     },
     "execution_count": 25,
     "metadata": {},
     "output_type": "execute_result"
    },
    {
     "data": {
      "image/png": "[encoded data removed]",
      "text/plain": [
       "<Figure size 640x480 with 1 Axes>"
      ]
     },
     "metadata": {},
     "output_type": "display_data"
    }
   ],
   "source": [
    "plt.plot(CIFAR.history['loss'], label='train loss')\n",
    "plt.plot(CIFAR.history['val_loss'], label='validation loss')\n",
    "plt.xlabel('epoch')\n",
    "plt.ylabel('loss')\n",
    "plt.legend()"
   ]
  },
  {
   "cell_type": "code",
   "execution_count": 26,
   "metadata": {},
   "outputs": [
    {
     "name": "stdout",
     "output_type": "stream",
     "text": [
      "Train accuracy: 0.5607600212097168\n",
      "Test accuracy: 0.49390000104904175\n"
     ]
    }
   ],
   "source": [
    "loss, acc = model.evaluate(x_train, y_train, verbose=0)\n",
    "\n",
    "print(\"Train accuracy:\", acc)\n",
    "\n",
    "loss, acc = model.evaluate(x_test, y_test, verbose=0)\n",
    "\n",
    "print(\"Test accuracy:\", acc)"
   ]
  },
  {
   "cell_type": "code",
   "execution_count": null,
   "metadata": {},
   "outputs": [],
   "source": []
  },
  {
   "cell_type": "code",
   "execution_count": null,
   "metadata": {},
   "outputs": [],
   "source": []
  }
 ],
 "metadata": {
  "kernelspec": {
   "display_name": "base",
   "language": "python",
   "name": "python3"
  },
  "language_info": {
   "codemirror_mode": {
    "name": "ipython",
    "version": 3
   },
   "file_extension": ".py",
   "mimetype": "text/x-python",
   "name": "python",
   "nbconvert_exporter": "python",
   "pygments_lexer": "ipython3",
   "version": "3.11.5"
  }
 },
 "nbformat": 4,
 "nbformat_minor": 2
}
